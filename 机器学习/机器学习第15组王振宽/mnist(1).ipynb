{
 "cells": [
  {
   "cell_type": "code",
   "execution_count": 12,
   "id": "a81dab58",
   "metadata": {},
   "outputs": [],
   "source": [
    "import torch\n",
    "import torch.nn as nn\n",
    "import torch.optim as optim\n",
    "import torch.nn.functional as F\n",
    "import torchvision\n",
    "from torch.utils.tensorboard import SummaryWriter\n",
    "import numpy as np\n",
    "import pandas as pd\n",
    "import cv2\n",
    "from PIL import Image"
   ]
  },
  {
   "cell_type": "code",
   "execution_count": 4,
   "id": "5e6c6481",
   "metadata": {},
   "outputs": [],
   "source": [
    "input_size = 28\n",
    "num_classes = 10\n",
    "num_epochs = 10\n",
    "batch_size = 120\n",
    "\n",
    "train_dataset = torchvision.datasets.MNIST(root='data',\n",
    "                              train=True,\n",
    "                              transform=torchvision.transforms.ToTensor())\n",
    "\n",
    "test_dataset = torchvision.datasets.MNIST(root='data',\n",
    "                             train=False,\n",
    "                             transform=torchvision.transforms.ToTensor())"
   ]
  },
  {
   "cell_type": "code",
   "execution_count": 5,
   "id": "283b89af",
   "metadata": {},
   "outputs": [],
   "source": [
    "#构建 mini-batch\n",
    "train_loader = torch.utils.data.DataLoader(dataset=train_dataset,\n",
    "                                          batch_size=batch_size,\n",
    "                                          shuffle=True)\n",
    "test_loader = torch.utils.data.DataLoader(dataset=test_dataset,\n",
    "                                          batch_size=batch_size,\n",
    "                                          shuffle=True)"
   ]
  },
  {
   "cell_type": "code",
   "execution_count": 10,
   "id": "737079ac",
   "metadata": {},
   "outputs": [],
   "source": [
    "#构建 网络结构\n",
    "class CNN(nn.Module):\n",
    "    def __init__(self):\n",
    "        super().__init__()\n",
    "        self.conv1 = nn.Sequential(nn.Conv2d(in_channels=1,\n",
    "                                             out_channels=8,\n",
    "                                             kernel_size=5,\n",
    "                                             stride=1,\n",
    "                                             padding=1),\n",
    "                                   nn.ReLU(),\n",
    "                                   nn.MaxPool2d(2),)\n",
    "        self.conv2 = nn.Sequential(nn.Conv2d(8, 16, 5, 1, 1),\n",
    "                                   nn.ReLU(),\n",
    "                                   nn.MaxPool2d(2),)\n",
    "        self.out = nn.Sequential(nn.Flatten(),\n",
    "                                 nn.Linear(16 * 5 * 5, 64),\n",
    "                                 nn.ReLU(),\n",
    "                                 nn.Linear(64, 10),)\n",
    "\n",
    "    def forward(self, x):\n",
    "        x = self.conv1(x)\n",
    "        x = self.conv2(x)\n",
    "        output = self.out(x)\n",
    "        return output"
   ]
  },
  {
   "cell_type": "code",
   "execution_count": 7,
   "id": "abd28436",
   "metadata": {},
   "outputs": [],
   "source": [
    "#定义准确率作为评估标准\n",
    "def accuracy(predictions, labels):\n",
    "    pred = torch.max(predictions.data, 1)[1]            #torch.max()[0]返回最大值 torch.max()[1]返回最大值位置，既预测值\n",
    "    rights = pred.eq(labels.data.view_as(pred)).sum()\n",
    "    return rights, len(labels)                          #这里返回的是正确个数与总个数组成的元组"
   ]
  },
  {
   "cell_type": "code",
   "execution_count": 23,
   "id": "dd677c23",
   "metadata": {
    "scrolled": true
   },
   "outputs": [
    {
     "name": "stdout",
     "output_type": "stream",
     "text": [
      "当前epoch：0 [0/60000]   损失：2.300909  训练集准确率：12.50%   测试集准确率：10.32%\n",
      "当前epoch：0 [12000/60000]   损失：0.306057  训练集准确率：72.65%   测试集准确率：88.91%\n",
      "当前epoch：0 [24000/60000]   损失：0.198007  训练集准确率：82.04%   测试集准确率：93.01%\n",
      "当前epoch：0 [36000/60000]   损失：0.238400  训练集准确率：85.95%   测试集准确率：94.82%\n",
      "当前epoch：0 [48000/60000]   损失：0.205797  训练集准确率：88.13%   测试集准确率：95.82%\n",
      "当前epoch：1 [0/60000]   损失：0.075445  训练集准确率：98.33%   测试集准确率：96.38%\n",
      "当前epoch：1 [12000/60000]   损失：0.107527  训练集准确率：96.53%   测试集准确率：96.89%\n",
      "当前epoch：1 [24000/60000]   损失：0.134942  训练集准确率：96.73%   测试集准确率：97.34%\n",
      "当前epoch：1 [36000/60000]   损失：0.090773  训练集准确率：96.85%   测试集准确率：97.93%\n",
      "当前epoch：1 [48000/60000]   损失：0.070903  训练集准确率：96.99%   测试集准确率：97.40%\n",
      "当前epoch：2 [0/60000]   损失：0.055193  训练集准确率：99.17%   测试集准确率：98.03%\n",
      "当前epoch：2 [12000/60000]   损失：0.141378  训练集准确率：97.71%   测试集准确率：98.13%\n",
      "当前epoch：2 [24000/60000]   损失：0.048735  训练集准确率：97.74%   测试集准确率：98.35%\n",
      "当前epoch：2 [36000/60000]   损失：0.164965  训练集准确率：97.85%   测试集准确率：98.22%\n",
      "当前epoch：2 [48000/60000]   损失：0.040464  训练集准确率：97.85%   测试集准确率：98.13%\n",
      "当前epoch：3 [0/60000]   损失：0.028368  训练集准确率：99.17%   测试集准确率：98.47%\n",
      "当前epoch：3 [12000/60000]   损失：0.083229  训练集准确率：98.29%   测试集准确率：98.39%\n",
      "当前epoch：3 [24000/60000]   损失：0.031999  训练集准确率：98.28%   测试集准确率：98.51%\n",
      "当前epoch：3 [36000/60000]   损失：0.033603  训练集准确率：98.27%   测试集准确率：98.10%\n",
      "当前epoch：3 [48000/60000]   损失：0.043344  训练集准确率：98.29%   测试集准确率：98.22%\n",
      "当前epoch：4 [0/60000]   损失：0.026516  训练集准确率：99.17%   测试集准确率：98.38%\n",
      "当前epoch：4 [12000/60000]   损失：0.082040  训练集准确率：98.69%   测试集准确率：98.68%\n",
      "当前epoch：4 [24000/60000]   损失：0.057374  训练集准确率：98.79%   测试集准确率：98.59%\n",
      "当前epoch：4 [36000/60000]   损失：0.046819  训练集准确率：98.71%   测试集准确率：98.42%\n",
      "当前epoch：4 [48000/60000]   损失：0.029286  训练集准确率：98.66%   测试集准确率：98.50%\n",
      "当前epoch：5 [0/60000]   损失：0.007538  训练集准确率：100.00%   测试集准确率：98.40%\n",
      "当前epoch：5 [12000/60000]   损失：0.074531  训练集准确率：98.84%   测试集准确率：98.79%\n",
      "当前epoch：5 [24000/60000]   损失：0.022847  训练集准确率：98.65%   测试集准确率：98.80%\n",
      "当前epoch：5 [36000/60000]   损失：0.081610  训练集准确率：98.65%   测试集准确率：98.62%\n",
      "当前epoch：5 [48000/60000]   损失：0.016350  训练集准确率：98.70%   测试集准确率：98.74%\n",
      "当前epoch：6 [0/60000]   损失：0.017810  训练集准确率：99.17%   测试集准确率：98.66%\n",
      "当前epoch：6 [12000/60000]   损失：0.071512  训练集准确率：98.94%   测试集准确率：98.71%\n",
      "当前epoch：6 [24000/60000]   损失：0.050816  训练集准确率：98.93%   测试集准确率：98.45%\n",
      "当前epoch：6 [36000/60000]   损失：0.007102  训练集准确率：98.93%   测试集准确率：98.86%\n",
      "当前epoch：6 [48000/60000]   损失：0.025897  训练集准确率：98.92%   测试集准确率：98.89%\n",
      "当前epoch：7 [0/60000]   损失：0.018160  训练集准确率：99.17%   测试集准确率：98.85%\n",
      "当前epoch：7 [12000/60000]   损失：0.025520  训练集准确率：99.10%   测试集准确率：98.92%\n",
      "当前epoch：7 [24000/60000]   损失：0.011856  训练集准确率：99.19%   测试集准确率：98.78%\n",
      "当前epoch：7 [36000/60000]   损失：0.006466  训练集准确率：99.08%   测试集准确率：98.70%\n",
      "当前epoch：7 [48000/60000]   损失：0.046459  训练集准确率：99.06%   测试集准确率：98.60%\n",
      "当前epoch：8 [0/60000]   损失：0.057123  训练集准确率：98.33%   测试集准确率：98.52%\n",
      "当前epoch：8 [12000/60000]   损失：0.036338  训练集准确率：99.06%   测试集准确率：98.86%\n",
      "当前epoch：8 [24000/60000]   损失：0.004922  训练集准确率：99.14%   测试集准确率：99.00%\n",
      "当前epoch：8 [36000/60000]   损失：0.053999  训练集准确率：99.16%   测试集准确率：98.86%\n",
      "当前epoch：8 [48000/60000]   损失：0.016461  训练集准确率：99.14%   测试集准确率：98.97%\n",
      "当前epoch：9 [0/60000]   损失：0.012774  训练集准确率：99.17%   测试集准确率：99.00%\n",
      "当前epoch：9 [12000/60000]   损失：0.018734  训练集准确率：99.38%   测试集准确率：98.78%\n",
      "当前epoch：9 [24000/60000]   损失：0.008238  训练集准确率：99.40%   测试集准确率：99.06%\n",
      "当前epoch：9 [36000/60000]   损失：0.038018  训练集准确率：99.33%   测试集准确率：98.89%\n",
      "当前epoch：9 [48000/60000]   损失：0.016914  训练集准确率：99.31%   测试集准确率：98.90%\n"
     ]
    }
   ],
   "source": [
    "net = CNN()\n",
    "criterion = nn.CrossEntropyLoss()\n",
    "optimizer = optim.Adam(net.parameters(), lr=0.001)\n",
    "net.cuda()\n",
    "test_right = []\n",
    "train_loss = []\n",
    "\n",
    "for epoch in range(num_epochs):\n",
    "    train_rights = []\n",
    "    \n",
    "    for batch_idx, (data, target) in enumerate(train_loader):\n",
    "        data, target = data.cuda(), target.cuda()\n",
    "        net.train()\n",
    "        output = net(data)\n",
    "        loss = criterion(output, target)\n",
    "        optimizer.zero_grad()\n",
    "        loss.backward()\n",
    "        optimizer.step()\n",
    "        right = accuracy(output, target)\n",
    "        train_rights.append(right)\n",
    "        \n",
    "        if batch_idx % 100 == 0:\n",
    "            net.eval()\n",
    "            val_rights = []\n",
    "            \n",
    "            for (data, target) in test_loader:\n",
    "                data, target = data.cuda(), target.cuda()\n",
    "                output = net(data)\n",
    "                right = accuracy(output, target)\n",
    "                val_rights.append(right)\n",
    "            \n",
    "            train_r = (sum([tup[0] for tup in train_rights]), sum([tup[1] for tup in train_rights]))\n",
    "            val_r = (sum([tup[0] for tup in val_rights]), sum([tup[1] for tup in val_rights]))\n",
    "            test_right.append((100*val_r[0]/val_r[1]).cpu().numpy())\n",
    "            train_loss.append(loss.data.cpu().numpy())\n",
    "\n",
    "            print(f'当前epoch：{epoch} [{batch_idx*batch_size}/{len(train_loader.dataset)}]   损失：{loss.data:.6f}  训练集准确率：{100*train_r[0]/train_r[1]:.2f}%   测试集准确率：{100*val_r[0]/val_r[1]:.2f}%')"
   ]
  },
  {
   "cell_type": "code",
   "execution_count": 26,
   "id": "5aa448c0",
   "metadata": {},
   "outputs": [],
   "source": [
    "loss_ = pd.DataFrame()\n",
    "ac_ = pd.DataFrame()\n",
    "loss_['relu'] = train_loss\n",
    "ac_['relu'] = test_right"
   ]
  },
  {
   "cell_type": "code",
   "execution_count": null,
   "id": "d6b1ff06",
   "metadata": {},
   "outputs": [],
   "source": []
  }
 ],
 "metadata": {
  "kernelspec": {
   "display_name": "Python 3 (ipykernel)",
   "language": "python",
   "name": "python3"
  },
  "language_info": {
   "codemirror_mode": {
    "name": "ipython",
    "version": 3
   },
   "file_extension": ".py",
   "mimetype": "text/x-python",
   "name": "python",
   "nbconvert_exporter": "python",
   "pygments_lexer": "ipython3",
   "version": "3.9.16"
  }
 },
 "nbformat": 4,
 "nbformat_minor": 5
}
